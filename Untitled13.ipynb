{
  "nbformat": 4,
  "nbformat_minor": 0,
  "metadata": {
    "colab": {
      "provenance": [],
      "authorship_tag": "ABX9TyM15DsZZ4ZnShKJVodCQne7",
      "include_colab_link": true
    },
    "kernelspec": {
      "name": "python3",
      "display_name": "Python 3"
    },
    "language_info": {
      "name": "python"
    }
  },
  "cells": [
    {
      "cell_type": "markdown",
      "metadata": {
        "id": "view-in-github",
        "colab_type": "text"
      },
      "source": [
        "<a href=\"https://colab.research.google.com/github/ramanujan2710/abstracting-fsvae/blob/main/Untitled13.ipynb\" target=\"_parent\"><img src=\"https://colab.research.google.com/assets/colab-badge.svg\" alt=\"Open In Colab\"/></a>"
      ]
    },
    {
      "cell_type": "code",
      "execution_count": null,
      "metadata": {
        "id": "3ll7qSVbMH0D",
        "colab": {
          "base_uri": "https://localhost:8080/",
          "height": 133
        },
        "outputId": "90599718-62dd-4d7a-f0b8-a81e655eeba3"
      },
      "outputs": [
        {
          "output_type": "error",
          "ename": "IndentationError",
          "evalue": "ignored",
          "traceback": [
            "\u001b[0;36m  File \u001b[0;32m\"<tokenize>\"\u001b[0;36m, line \u001b[0;32m68\u001b[0m\n\u001b[0;31m    def preprocess_data(data):\u001b[0m\n\u001b[0m    ^\u001b[0m\n\u001b[0;31mIndentationError\u001b[0m\u001b[0;31m:\u001b[0m unindent does not match any outer indentation level\n"
          ]
        }
      ],
      "source": [
        "\n",
        "\n",
        "import tensorflow as tf\n",
        "import tensorflow_datasets as tfds\n",
        "import numpy as np\n",
        "\n",
        "# Define hyperparameters\n",
        "batch_size = 16\n",
        "image_size = 256\n",
        "num_channels = 3\n",
        "num_classes = 1000\n",
        "latent_dim = 128\n",
        "num_layers = 12\n",
        "num_heads = 8\n",
        "mlp_dim = 512\n",
        "dropout_rate = 0.1\n",
        "learning_rate = 1e-4\n",
        "num_epochs = 10\n",
        "\n",
        "# Define the VIT-VAE model\n",
        "def create_vit_vae():\n",
        "    # Define the embedding layer\n",
        "    input_layer = tf.keras.layers.Input(shape=(image_size, image_size, num_channels))\n",
        "    embedding_layer = tf.keras.layers.Conv2D(filters=latent_dim, kernel_size=1, strides=1)(input_layer)\n",
        "    embedding_layer = tf.keras.layers.LayerNormalization()(embedding_layer)\n",
        "    embedding_layer = tf.keras.layers.Activation('relu')(embedding_layer)\n",
        "    \n",
        "    # Define the transformer encoder\n",
        "    encoder_layer = tf.keras.layers.Flatten()(embedding_layer)\n",
        "    for i in range(num_layers):\n",
        "        encoder_layer = tf.keras.layers.MultiHeadAttention(num_heads=num_heads, key_dim=latent_dim//num_heads)(encoder_layer, encoder_layer)\n",
        "        encoder_layer = tf.keras.layers.Dropout(dropout_rate)(encoder_layer)\n",
        "        encoder_layer = tf.keras.layers.LayerNormalization()(encoder_layer)\n",
        "        mlp_layer = tf.keras.Sequential([\n",
        "            tf.keras.layers.Dense(units=mlp_dim, activation='relu'),\n",
        "            tf.keras.layers.Dropout(dropout_rate),\n",
        "            tf.keras.layers.Dense(units=latent_dim),\n",
        "            tf.keras.layers.Dropout(dropout_rate)\n",
        "        ])\n",
        "        encoder_layer = mlp_layer(encoder_layer)\n",
        "        encoder_layer = tf.keras.layers.LayerNormalization()(encoder_layer)\n",
        "    \n",
        "    # Define the decoder\n",
        "    decoder_layer = tf.keras.layers.Dense(units=image_size*image_size*num_channels)(encoder_layer)\n",
        "    decoder_layer = tf.keras.layers.Reshape((image_size, image_size, num_channels))(decoder_layer)\n",
        "    \n",
        "    # Define the shift and scale invariance\n",
        "    decoder_layer = tf.keras.layers.Subtract()([decoder_layer, tf.keras.layers.Lambda(lambda x: tf.reduce_mean(x, axis=[1,2], keepdims=True))(decoder_layer)])\n",
        "    decoder_layer = tf.keras.layers.Lambda(lambda x: x / tf.keras.backend.std(x, axis=[1,2], keepdims=True))(decoder_layer)\n",
        "    \n",
        "    # Define the relative positional and intensity encodings\n",
        "    positional_encoding = np.zeros((1, image_size, image_size, latent_dim))\n",
        "    intensity_encoding = np.zeros((1, image_size, image_size, latent_dim))\n",
        "    for i in range(image_size):\n",
        "        for j in range(image_size):\n",
        "            positional_encoding[0, i, j, :] = np.sin(i / 10000 ** (2 * np.arange(latent_dim) / latent_dim))\n",
        "            positional_encoding[0, i, j, :] = np.cos(j / 10000 ** (2 * np.arange(latent_dim) / latent_dim))\n",
        "            intensity_encoding[0, i, j, :] = embedding_layer[0, i, j, :]\n",
        "    decoder_layer = tf.keras.layers.Concatenate()([decoder_layer, positional_encoding, intensity_encoding])\n",
        "    \n",
        "    # Define the final output layer\n",
        "    output_layer = tf.keras.layers.Conv2D(filters=num_channels, kernel_size=1, strides=1)(decoder_layer)\n",
        "    \n",
        "    model = tf.keras.models.Model(inputs=input_layer, outputs=output_layer)\n",
        "    return model\n",
        "\n",
        "    div2k_train, div2k_info = tfds.load(name=\"div2k\", split=\"train\", with_info=True)\n",
        "\n",
        "\n",
        "  def preprocess_data(data):\n",
        "    image = tf.cast(data['hr'], tf.float32) / 255.0\n",
        "    image = tf.image.resize(image, [image_size, image_size])\n",
        "    return image\n",
        "\n",
        "\n",
        "    train_dataset = div2k_train.map(preprocess_data).shuffle(buffer_size=1024).batch(batch_size)\n",
        "\n",
        "\n",
        "    model = create_vit_vae()\n",
        "\n",
        "\n",
        "\n",
        "def vae_loss(x, x_hat):\n",
        "reconstruction_loss = tf.keras.losses.mean_squared_error(x, x_hat)\n",
        "kl_divergence = -0.5 * tf.reduce_mean(1 + tf.math.log(tf.keras.backend.square(tf.keras.backend.std(x_hat, axis=[1,2], keepdims=True))) - tf.keras.backend.square(tf.keras.backend.mean(x_hat, axis=[1,2], keepdims=True)) - 1e-8)\n",
        "return reconstruction_loss + kl_divergence\n",
        "\n",
        "\n",
        "\n",
        "model.compile(optimizer=tf.keras.optimizers.Adam(learning_rate=learning_rate), loss=vae_loss)\n",
        "\n",
        "\n",
        "\n",
        "model.fit(train_dataset, epochs=num_epochs)\n",
        "\n",
        "\n",
        "model.save_weights('vit_vae_weights.h5')\n",
        "\n",
        "\n",
        "\n",
        "\n",
        "\n",
        "\n",
        "\n",
        "\n",
        "\n",
        "\n",
        "\n"
      ]
    }
  ]
}